{
 "cells": [
  {
   "cell_type": "code",
   "execution_count": null,
   "id": "f2c4a5c9",
   "metadata": {},
   "outputs": [],
   "source": [
    "import os #interact with our operating systems file system\n",
    "import pandas as pd\n",
    "import numpy as np\n",
    "from unidecode import unidecode #convert text with accents or special characters into a simpler format\n",
    "\n",
    "pd.set_option ('display.max_columns', 500)\n",
    "\n",
    "from pybaseball import statcast\n"
   ]
  },
  {
   "cell_type": "code",
   "execution_count": null,
   "id": "00eaacee",
   "metadata": {},
   "outputs": [],
   "source": []
  }
 ],
 "metadata": {
  "kernelspec": {
   "display_name": "Python 3",
   "language": "python",
   "name": "python3"
  },
  "language_info": {
   "codemirror_mode": {
    "name": "ipython",
    "version": 3
   },
   "file_extension": ".py",
   "mimetype": "text/x-python",
   "name": "python",
   "nbconvert_exporter": "python",
   "pygments_lexer": "ipython3",
   "version": "3.13.3"
  }
 },
 "nbformat": 4,
 "nbformat_minor": 5
}
